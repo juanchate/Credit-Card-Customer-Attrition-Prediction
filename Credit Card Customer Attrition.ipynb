{
 "cells": [
  {
   "cell_type": "markdown",
   "metadata": {},
   "source": [
    "# Introduction\n",
    "<p>Welcome! In this notebook i'm going to analyze credit card's customers data and implement a Machine Learning Classfier to predict the attrition probabilty of customers</p>\n",
    "<h3>My main objectives on this project are:</h3>   \n",
    "<ul>\n",
    "    <li>Applying exploratory data analysis and trying to get some insights about our dataset</li>\n",
    "    <li>Getting data in better shape by transforming and feature engineering to help us in building better models</li>\n",
    "    <li>Building and tuning different ML algorithms to get some results on predicting Attrition</li>\n",
    "</ul>"
   ]
  },
  {
   "cell_type": "markdown",
   "metadata": {},
   "source": [
    "<h2>Importing Libraries</h2>\n",
    "<p>Lets start by importing some packages we are going to need</p>"
   ]
  },
  {
   "cell_type": "code",
   "execution_count": 1,
   "metadata": {},
   "outputs": [],
   "source": [
    "import numpy as np\n",
    "import pandas as pd\n",
    "import os\n",
    "import matplotlib.pyplot as plt\n",
    "import matplotlib.gridspec as gridspec\n",
    "from matplotlib.ticker import MaxNLocator\n",
    "import seaborn as sns\n",
    "from sklearn.preprocessing import LabelBinarizer"
   ]
  },
  {
   "cell_type": "markdown",
   "metadata": {},
   "source": [
    "# Meeting the data\n",
    "<p>Lets open the data and see what we have</p>"
   ]
  },
  {
   "cell_type": "code",
   "execution_count": 2,
   "metadata": {},
   "outputs": [],
   "source": [
    "#Opening the data\n",
    "data = pd.read_csv('./customersData.csv')"
   ]
  },
  {
   "cell_type": "code",
   "execution_count": 3,
   "metadata": {},
   "outputs": [
    {
     "data": {
      "text/plain": [
       "(10127, 23)"
      ]
     },
     "execution_count": 3,
     "metadata": {},
     "output_type": "execute_result"
    }
   ],
   "source": [
    "#Lets see the shapes of the data so we know what we are dealing with\n",
    "data.shape"
   ]
  },
  {
   "cell_type": "code",
   "execution_count": 4,
   "metadata": {},
   "outputs": [
    {
     "data": {
      "text/html": [
       "<div>\n",
       "<style scoped>\n",
       "    .dataframe tbody tr th:only-of-type {\n",
       "        vertical-align: middle;\n",
       "    }\n",
       "\n",
       "    .dataframe tbody tr th {\n",
       "        vertical-align: top;\n",
       "    }\n",
       "\n",
       "    .dataframe thead th {\n",
       "        text-align: right;\n",
       "    }\n",
       "</style>\n",
       "<table border=\"1\" class=\"dataframe\">\n",
       "  <thead>\n",
       "    <tr style=\"text-align: right;\">\n",
       "      <th></th>\n",
       "      <th>CLIENTNUM</th>\n",
       "      <th>Attrition_Flag</th>\n",
       "      <th>Customer_Age</th>\n",
       "      <th>Gender</th>\n",
       "      <th>Dependent_count</th>\n",
       "      <th>Education_Level</th>\n",
       "      <th>Marital_Status</th>\n",
       "      <th>Income_Category</th>\n",
       "      <th>Card_Category</th>\n",
       "      <th>Months_on_book</th>\n",
       "      <th>...</th>\n",
       "      <th>Credit_Limit</th>\n",
       "      <th>Total_Revolving_Bal</th>\n",
       "      <th>Avg_Open_To_Buy</th>\n",
       "      <th>Total_Amt_Chng_Q4_Q1</th>\n",
       "      <th>Total_Trans_Amt</th>\n",
       "      <th>Total_Trans_Ct</th>\n",
       "      <th>Total_Ct_Chng_Q4_Q1</th>\n",
       "      <th>Avg_Utilization_Ratio</th>\n",
       "      <th>Naive_Bayes_Classifier_Attrition_Flag_Card_Category_Contacts_Count_12_mon_Dependent_count_Education_Level_Months_Inactive_12_mon_1</th>\n",
       "      <th>Naive_Bayes_Classifier_Attrition_Flag_Card_Category_Contacts_Count_12_mon_Dependent_count_Education_Level_Months_Inactive_12_mon_2</th>\n",
       "    </tr>\n",
       "  </thead>\n",
       "  <tbody>\n",
       "    <tr>\n",
       "      <th>0</th>\n",
       "      <td>768805383</td>\n",
       "      <td>Existing Customer</td>\n",
       "      <td>45</td>\n",
       "      <td>M</td>\n",
       "      <td>3</td>\n",
       "      <td>High School</td>\n",
       "      <td>Married</td>\n",
       "      <td>$60K - $80K</td>\n",
       "      <td>Blue</td>\n",
       "      <td>39</td>\n",
       "      <td>...</td>\n",
       "      <td>12691.0</td>\n",
       "      <td>777</td>\n",
       "      <td>11914.0</td>\n",
       "      <td>1.335</td>\n",
       "      <td>1144</td>\n",
       "      <td>42</td>\n",
       "      <td>1.625</td>\n",
       "      <td>0.061</td>\n",
       "      <td>0.000093</td>\n",
       "      <td>0.99991</td>\n",
       "    </tr>\n",
       "    <tr>\n",
       "      <th>1</th>\n",
       "      <td>818770008</td>\n",
       "      <td>Existing Customer</td>\n",
       "      <td>49</td>\n",
       "      <td>F</td>\n",
       "      <td>5</td>\n",
       "      <td>Graduate</td>\n",
       "      <td>Single</td>\n",
       "      <td>Less than $40K</td>\n",
       "      <td>Blue</td>\n",
       "      <td>44</td>\n",
       "      <td>...</td>\n",
       "      <td>8256.0</td>\n",
       "      <td>864</td>\n",
       "      <td>7392.0</td>\n",
       "      <td>1.541</td>\n",
       "      <td>1291</td>\n",
       "      <td>33</td>\n",
       "      <td>3.714</td>\n",
       "      <td>0.105</td>\n",
       "      <td>0.000057</td>\n",
       "      <td>0.99994</td>\n",
       "    </tr>\n",
       "    <tr>\n",
       "      <th>2</th>\n",
       "      <td>713982108</td>\n",
       "      <td>Existing Customer</td>\n",
       "      <td>51</td>\n",
       "      <td>M</td>\n",
       "      <td>3</td>\n",
       "      <td>Graduate</td>\n",
       "      <td>Married</td>\n",
       "      <td>$80K - $120K</td>\n",
       "      <td>Blue</td>\n",
       "      <td>36</td>\n",
       "      <td>...</td>\n",
       "      <td>3418.0</td>\n",
       "      <td>0</td>\n",
       "      <td>3418.0</td>\n",
       "      <td>2.594</td>\n",
       "      <td>1887</td>\n",
       "      <td>20</td>\n",
       "      <td>2.333</td>\n",
       "      <td>0.000</td>\n",
       "      <td>0.000021</td>\n",
       "      <td>0.99998</td>\n",
       "    </tr>\n",
       "    <tr>\n",
       "      <th>3</th>\n",
       "      <td>769911858</td>\n",
       "      <td>Existing Customer</td>\n",
       "      <td>40</td>\n",
       "      <td>F</td>\n",
       "      <td>4</td>\n",
       "      <td>High School</td>\n",
       "      <td>Unknown</td>\n",
       "      <td>Less than $40K</td>\n",
       "      <td>Blue</td>\n",
       "      <td>34</td>\n",
       "      <td>...</td>\n",
       "      <td>3313.0</td>\n",
       "      <td>2517</td>\n",
       "      <td>796.0</td>\n",
       "      <td>1.405</td>\n",
       "      <td>1171</td>\n",
       "      <td>20</td>\n",
       "      <td>2.333</td>\n",
       "      <td>0.760</td>\n",
       "      <td>0.000134</td>\n",
       "      <td>0.99987</td>\n",
       "    </tr>\n",
       "    <tr>\n",
       "      <th>4</th>\n",
       "      <td>709106358</td>\n",
       "      <td>Existing Customer</td>\n",
       "      <td>40</td>\n",
       "      <td>M</td>\n",
       "      <td>3</td>\n",
       "      <td>Uneducated</td>\n",
       "      <td>Married</td>\n",
       "      <td>$60K - $80K</td>\n",
       "      <td>Blue</td>\n",
       "      <td>21</td>\n",
       "      <td>...</td>\n",
       "      <td>4716.0</td>\n",
       "      <td>0</td>\n",
       "      <td>4716.0</td>\n",
       "      <td>2.175</td>\n",
       "      <td>816</td>\n",
       "      <td>28</td>\n",
       "      <td>2.500</td>\n",
       "      <td>0.000</td>\n",
       "      <td>0.000022</td>\n",
       "      <td>0.99998</td>\n",
       "    </tr>\n",
       "    <tr>\n",
       "      <th>5</th>\n",
       "      <td>713061558</td>\n",
       "      <td>Existing Customer</td>\n",
       "      <td>44</td>\n",
       "      <td>M</td>\n",
       "      <td>2</td>\n",
       "      <td>Graduate</td>\n",
       "      <td>Married</td>\n",
       "      <td>$40K - $60K</td>\n",
       "      <td>Blue</td>\n",
       "      <td>36</td>\n",
       "      <td>...</td>\n",
       "      <td>4010.0</td>\n",
       "      <td>1247</td>\n",
       "      <td>2763.0</td>\n",
       "      <td>1.376</td>\n",
       "      <td>1088</td>\n",
       "      <td>24</td>\n",
       "      <td>0.846</td>\n",
       "      <td>0.311</td>\n",
       "      <td>0.000055</td>\n",
       "      <td>0.99994</td>\n",
       "    </tr>\n",
       "    <tr>\n",
       "      <th>6</th>\n",
       "      <td>810347208</td>\n",
       "      <td>Existing Customer</td>\n",
       "      <td>51</td>\n",
       "      <td>M</td>\n",
       "      <td>4</td>\n",
       "      <td>Unknown</td>\n",
       "      <td>Married</td>\n",
       "      <td>$120K +</td>\n",
       "      <td>Gold</td>\n",
       "      <td>46</td>\n",
       "      <td>...</td>\n",
       "      <td>34516.0</td>\n",
       "      <td>2264</td>\n",
       "      <td>32252.0</td>\n",
       "      <td>1.975</td>\n",
       "      <td>1330</td>\n",
       "      <td>31</td>\n",
       "      <td>0.722</td>\n",
       "      <td>0.066</td>\n",
       "      <td>0.000123</td>\n",
       "      <td>0.99988</td>\n",
       "    </tr>\n",
       "    <tr>\n",
       "      <th>7</th>\n",
       "      <td>818906208</td>\n",
       "      <td>Existing Customer</td>\n",
       "      <td>32</td>\n",
       "      <td>M</td>\n",
       "      <td>0</td>\n",
       "      <td>High School</td>\n",
       "      <td>Unknown</td>\n",
       "      <td>$60K - $80K</td>\n",
       "      <td>Silver</td>\n",
       "      <td>27</td>\n",
       "      <td>...</td>\n",
       "      <td>29081.0</td>\n",
       "      <td>1396</td>\n",
       "      <td>27685.0</td>\n",
       "      <td>2.204</td>\n",
       "      <td>1538</td>\n",
       "      <td>36</td>\n",
       "      <td>0.714</td>\n",
       "      <td>0.048</td>\n",
       "      <td>0.000086</td>\n",
       "      <td>0.99991</td>\n",
       "    </tr>\n",
       "    <tr>\n",
       "      <th>8</th>\n",
       "      <td>710930508</td>\n",
       "      <td>Existing Customer</td>\n",
       "      <td>37</td>\n",
       "      <td>M</td>\n",
       "      <td>3</td>\n",
       "      <td>Uneducated</td>\n",
       "      <td>Single</td>\n",
       "      <td>$60K - $80K</td>\n",
       "      <td>Blue</td>\n",
       "      <td>36</td>\n",
       "      <td>...</td>\n",
       "      <td>22352.0</td>\n",
       "      <td>2517</td>\n",
       "      <td>19835.0</td>\n",
       "      <td>3.355</td>\n",
       "      <td>1350</td>\n",
       "      <td>24</td>\n",
       "      <td>1.182</td>\n",
       "      <td>0.113</td>\n",
       "      <td>0.000045</td>\n",
       "      <td>0.99996</td>\n",
       "    </tr>\n",
       "    <tr>\n",
       "      <th>9</th>\n",
       "      <td>719661558</td>\n",
       "      <td>Existing Customer</td>\n",
       "      <td>48</td>\n",
       "      <td>M</td>\n",
       "      <td>2</td>\n",
       "      <td>Graduate</td>\n",
       "      <td>Single</td>\n",
       "      <td>$80K - $120K</td>\n",
       "      <td>Blue</td>\n",
       "      <td>36</td>\n",
       "      <td>...</td>\n",
       "      <td>11656.0</td>\n",
       "      <td>1677</td>\n",
       "      <td>9979.0</td>\n",
       "      <td>1.524</td>\n",
       "      <td>1441</td>\n",
       "      <td>32</td>\n",
       "      <td>0.882</td>\n",
       "      <td>0.144</td>\n",
       "      <td>0.000303</td>\n",
       "      <td>0.99970</td>\n",
       "    </tr>\n",
       "  </tbody>\n",
       "</table>\n",
       "<p>10 rows × 23 columns</p>\n",
       "</div>"
      ],
      "text/plain": [
       "   CLIENTNUM     Attrition_Flag  Customer_Age Gender  Dependent_count  \\\n",
       "0  768805383  Existing Customer            45      M                3   \n",
       "1  818770008  Existing Customer            49      F                5   \n",
       "2  713982108  Existing Customer            51      M                3   \n",
       "3  769911858  Existing Customer            40      F                4   \n",
       "4  709106358  Existing Customer            40      M                3   \n",
       "5  713061558  Existing Customer            44      M                2   \n",
       "6  810347208  Existing Customer            51      M                4   \n",
       "7  818906208  Existing Customer            32      M                0   \n",
       "8  710930508  Existing Customer            37      M                3   \n",
       "9  719661558  Existing Customer            48      M                2   \n",
       "\n",
       "  Education_Level Marital_Status Income_Category Card_Category  \\\n",
       "0     High School        Married     $60K - $80K          Blue   \n",
       "1        Graduate         Single  Less than $40K          Blue   \n",
       "2        Graduate        Married    $80K - $120K          Blue   \n",
       "3     High School        Unknown  Less than $40K          Blue   \n",
       "4      Uneducated        Married     $60K - $80K          Blue   \n",
       "5        Graduate        Married     $40K - $60K          Blue   \n",
       "6         Unknown        Married         $120K +          Gold   \n",
       "7     High School        Unknown     $60K - $80K        Silver   \n",
       "8      Uneducated         Single     $60K - $80K          Blue   \n",
       "9        Graduate         Single    $80K - $120K          Blue   \n",
       "\n",
       "   Months_on_book  ...  Credit_Limit  Total_Revolving_Bal  Avg_Open_To_Buy  \\\n",
       "0              39  ...       12691.0                  777          11914.0   \n",
       "1              44  ...        8256.0                  864           7392.0   \n",
       "2              36  ...        3418.0                    0           3418.0   \n",
       "3              34  ...        3313.0                 2517            796.0   \n",
       "4              21  ...        4716.0                    0           4716.0   \n",
       "5              36  ...        4010.0                 1247           2763.0   \n",
       "6              46  ...       34516.0                 2264          32252.0   \n",
       "7              27  ...       29081.0                 1396          27685.0   \n",
       "8              36  ...       22352.0                 2517          19835.0   \n",
       "9              36  ...       11656.0                 1677           9979.0   \n",
       "\n",
       "   Total_Amt_Chng_Q4_Q1  Total_Trans_Amt  Total_Trans_Ct  Total_Ct_Chng_Q4_Q1  \\\n",
       "0                 1.335             1144              42                1.625   \n",
       "1                 1.541             1291              33                3.714   \n",
       "2                 2.594             1887              20                2.333   \n",
       "3                 1.405             1171              20                2.333   \n",
       "4                 2.175              816              28                2.500   \n",
       "5                 1.376             1088              24                0.846   \n",
       "6                 1.975             1330              31                0.722   \n",
       "7                 2.204             1538              36                0.714   \n",
       "8                 3.355             1350              24                1.182   \n",
       "9                 1.524             1441              32                0.882   \n",
       "\n",
       "   Avg_Utilization_Ratio  \\\n",
       "0                  0.061   \n",
       "1                  0.105   \n",
       "2                  0.000   \n",
       "3                  0.760   \n",
       "4                  0.000   \n",
       "5                  0.311   \n",
       "6                  0.066   \n",
       "7                  0.048   \n",
       "8                  0.113   \n",
       "9                  0.144   \n",
       "\n",
       "   Naive_Bayes_Classifier_Attrition_Flag_Card_Category_Contacts_Count_12_mon_Dependent_count_Education_Level_Months_Inactive_12_mon_1  \\\n",
       "0                                           0.000093                                                                                    \n",
       "1                                           0.000057                                                                                    \n",
       "2                                           0.000021                                                                                    \n",
       "3                                           0.000134                                                                                    \n",
       "4                                           0.000022                                                                                    \n",
       "5                                           0.000055                                                                                    \n",
       "6                                           0.000123                                                                                    \n",
       "7                                           0.000086                                                                                    \n",
       "8                                           0.000045                                                                                    \n",
       "9                                           0.000303                                                                                    \n",
       "\n",
       "   Naive_Bayes_Classifier_Attrition_Flag_Card_Category_Contacts_Count_12_mon_Dependent_count_Education_Level_Months_Inactive_12_mon_2  \n",
       "0                                            0.99991                                                                                   \n",
       "1                                            0.99994                                                                                   \n",
       "2                                            0.99998                                                                                   \n",
       "3                                            0.99987                                                                                   \n",
       "4                                            0.99998                                                                                   \n",
       "5                                            0.99994                                                                                   \n",
       "6                                            0.99988                                                                                   \n",
       "7                                            0.99991                                                                                   \n",
       "8                                            0.99996                                                                                   \n",
       "9                                            0.99970                                                                                   \n",
       "\n",
       "[10 rows x 23 columns]"
      ]
     },
     "execution_count": 4,
     "metadata": {},
     "output_type": "execute_result"
    }
   ],
   "source": [
    "#lets observe some of his elements\n",
    "data.head(10)"
   ]
  },
  {
   "cell_type": "code",
   "execution_count": 5,
   "metadata": {},
   "outputs": [],
   "source": [
    "#Lets delete the last two columns as they are irrelevant\n",
    "data.drop(columns=[\"Naive_Bayes_Classifier_Attrition_Flag_Card_Category_Contacts_Count_12_mon_Dependent_count_Education_Level_Months_Inactive_12_mon_1\",\n",
    "                  \"Naive_Bayes_Classifier_Attrition_Flag_Card_Category_Contacts_Count_12_mon_Dependent_count_Education_Level_Months_Inactive_12_mon_2\",\n",
    "                  'CLIENTNUM'], inplace=True)\n"
   ]
  },
  {
   "cell_type": "markdown",
   "metadata": {},
   "source": [
    "# EDA\n",
    "<p>Exploratory Data Analysis</p>\n",
    "\n",
    "<p>Lets create a heatmap graphic here. With this graphic we can see the correlation between different features</p>"
   ]
  },
  {
   "cell_type": "code",
   "execution_count": 6,
   "metadata": {},
   "outputs": [
    {
     "data": {
      "text/plain": [
       "array(['Existing Customer', 'Attrited Customer'], dtype=object)"
      ]
     },
     "execution_count": 6,
     "metadata": {},
     "output_type": "execute_result"
    }
   ],
   "source": [
    "data['Attrition_Flag'].unique()"
   ]
  },
  {
   "cell_type": "code",
   "execution_count": 7,
   "metadata": {},
   "outputs": [],
   "source": [
    "# Lets encode the target\n",
    "data['Attrition_Flag'] = data['Attrition_Flag'].map({'Attrited Customer': 1, 'Existing Customer': 0})"
   ]
  },
  {
   "cell_type": "code",
   "execution_count": 8,
   "metadata": {},
   "outputs": [
    {
     "data": {
      "image/png": "[encoded data removed]",
      "text/plain": [
       "<Figure size 1008x864 with 2 Axes>"
      ]
     },
     "metadata": {
      "needs_background": "light"
     },
     "output_type": "display_data"
    }
   ],
   "source": [
    "correlation = data.corr()\n",
    "\n",
    "f, ax = plt.subplots(figsize=(14,12))\n",
    "plt.title('Correlation of numerical attributes', size=16)\n",
    "sns.heatmap(correlation)\n",
    "plt.show()"
   ]
  },
  {
   "cell_type": "markdown",
   "metadata": {},
   "source": [
    "<h4>Observations</h4>\n",
    "<li>Let's focus on the lighter parts of the graph</li>\n",
    "<ol>\n",
    "    <li>Customer age and Months on book have a high correlation because these customers just got the possibility of getting a credit card</li>\n",
    "    <li>Avg_Open_To_Buy and Credit_Limit have a high correlation because they are telling the \"same thing\"</li>\n",
    "    <li>Total Transaction Amount is high correlated with Total Transacion Count because usually the amount tends to get higher as the count of transactions grow</li>\n",
    "</ol>"
   ]
  },
  {
   "cell_type": "code",
   "execution_count": 9,
   "metadata": {},
   "outputs": [],
   "source": [
    "# Let's create an Customer_Age_Group column using bins\n",
    "data['Customer_Age_Group'] = pd.cut(data['Customer_Age'],bins=[18,25,35,45,55,65,100],labels=['18-25','25-35','35-45','45-55','55-65','65+'])"
   ]
  },
  {
   "cell_type": "code",
   "execution_count": 10,
   "metadata": {},
   "outputs": [
    {
     "data": {
      "text/plain": [
       "<AxesSubplot:xlabel='Customer_Age_Group', ylabel='count'>"
      ]
     },
     "execution_count": 10,
     "metadata": {},
     "output_type": "execute_result"
    },
    {
     "data": {
      "image/png": "[encoded data removed]",
      "text/plain": [
       "<Figure size 648x432 with 1 Axes>"
      ]
     },
     "metadata": {
      "needs_background": "light"
     },
     "output_type": "display_data"
    }
   ],
   "source": [
    "# Let's make a plot to see the distribution of Customer_Age_Group\n",
    "plt.figure(figsize=(9,6))\n",
    "# Generate a histogram\n",
    "sns.countplot(x='Customer_Age_Group',data=data,palette='Set1')"
   ]
  },
  {
   "cell_type": "code",
   "execution_count": 11,
   "metadata": {},
   "outputs": [],
   "source": [
    "# Let's map Customer_Age_Group as an ordinal variable\n",
    "data['Customer_Age_Group'] = data['Customer_Age_Group'].map({'18-25':1,'25-35':2,'35-45':3,'45-55':4,'55-65':5,'65+':6})"
   ]
  },
  {
   "cell_type": "code",
   "execution_count": 12,
   "metadata": {},
   "outputs": [
    {
     "data": {
      "image/png": "[encoded data removed]",
      "text/plain": [
       "<Figure size 432x288 with 1 Axes>"
      ]
     },
     "metadata": {},
     "output_type": "display_data"
    }
   ],
   "source": [
    "# Plot histogram of the target\n",
    "sns.set(style=\"whitegrid\")\n",
    "sns.countplot(x=\"Attrition_Flag\", data=data)\n",
    "plt.show()"
   ]
  },
  {
   "cell_type": "code",
   "execution_count": 13,
   "metadata": {},
   "outputs": [
    {
     "data": {
      "text/plain": [
       "array(['$60K - $80K', 'Less than $40K', '$80K - $120K', '$40K - $60K',\n",
       "       '$120K +', 'Unknown'], dtype=object)"
      ]
     },
     "execution_count": 13,
     "metadata": {},
     "output_type": "execute_result"
    }
   ],
   "source": [
    "data['Income_Category'].unique()"
   ]
  },
  {
   "cell_type": "code",
   "execution_count": 14,
   "metadata": {},
   "outputs": [
    {
     "name": "stdout",
     "output_type": "stream",
     "text": [
      "The number of unknown incomes is:  1112\n",
      "The total number of rows is:  10127\n",
      "The percentage of unknown incomes overall is: % 10.98\n"
     ]
    }
   ],
   "source": [
    "unkown_inc = data[data['Income_Category'] == 'Unknown'].shape[0]\n",
    "amt_rows = data.shape[0]\n",
    "percentage = round((unkown_inc/amt_rows)*100, 2)\n",
    "print(\"The number of unknown incomes is: \", unkown_inc)\n",
    "print(\"The total number of rows is: \", amt_rows)\n",
    "print(\"The percentage of unknown incomes overall is: %\", percentage)"
   ]
  },
  {
   "cell_type": "code",
   "execution_count": 15,
   "metadata": {},
   "outputs": [],
   "source": [
    "# Let's replace the unknown incomes with the mode of the Income_Category\n",
    "data['Income_Category'].replace('Unknown', data['Income_Category'].mode()[0], inplace=True)"
   ]
  },
  {
   "cell_type": "code",
   "execution_count": 16,
   "metadata": {},
   "outputs": [
    {
     "data": {
      "text/plain": [
       "<AxesSubplot:xlabel='Income_Category', ylabel='count'>"
      ]
     },
     "execution_count": 16,
     "metadata": {},
     "output_type": "execute_result"
    },
    {
     "data": {
      "image/png": "[encoded data removed]",
      "text/plain": [
       "<Figure size 648x432 with 1 Axes>"
      ]
     },
     "metadata": {},
     "output_type": "display_data"
    }
   ],
   "source": [
    "# Let's make a plot to see the distribution of Income_Category\n",
    "# Size of the plot: (12,8)\n",
    "plt.figure(figsize=(9,6))\n",
    "# Generate a histogram\n",
    "sns.countplot(x='Income_Category',data=data,palette='Set1', order=['Less than $40K', '$40K - $60K', '$60K - $80K', '$80K - $120K', '$120K +'])"
   ]
  },
  {
   "cell_type": "code",
   "execution_count": 17,
   "metadata": {},
   "outputs": [],
   "source": [
    "# Map Income_Category as an ordinal variable\n",
    "data['Income_Category'] = data['Income_Category'].map({'Less than $40K': 1, '$40K - $60K': 2,\n",
    "                                                 '$60K - $80K': 3, '$80K - $120K': 4,\n",
    "                                                 '$120K +': 5})"
   ]
  },
  {
   "cell_type": "code",
   "execution_count": 18,
   "metadata": {},
   "outputs": [],
   "source": [
    "# Let's replace the unknown Education_Level with the mode of the Education_Level\n",
    "data['Education_Level'].replace('Unknown', data['Education_Level'].mode()[0], inplace=True)"
   ]
  },
  {
   "cell_type": "code",
   "execution_count": 19,
   "metadata": {},
   "outputs": [
    {
     "data": {
      "text/plain": [
       "<AxesSubplot:xlabel='Education_Level', ylabel='count'>"
      ]
     },
     "execution_count": 19,
     "metadata": {},
     "output_type": "execute_result"
    },
    {
     "data": {
      "image/png": "[encoded data removed]",
      "text/plain": [
       "<Figure size 648x432 with 1 Axes>"
      ]
     },
     "metadata": {},
     "output_type": "display_data"
    }
   ],
   "source": [
    "# Let's make a plot to see the distribution of Education_Level\n",
    "# Size of the plot: (12,8)\n",
    "plt.figure(figsize=(9,6))\n",
    "# Generate a histogram\n",
    "sns.countplot(x='Education_Level',data=data,palette='Set1', order=['Uneducated', 'High School', 'College', 'Graduate', 'Post-Graduate', 'Doctorate'])"
   ]
  },
  {
   "cell_type": "code",
   "execution_count": 20,
   "metadata": {},
   "outputs": [
    {
     "data": {
      "text/plain": [
       "array(['High School', 'Graduate', 'Uneducated', 'College',\n",
       "       'Post-Graduate', 'Doctorate'], dtype=object)"
      ]
     },
     "execution_count": 20,
     "metadata": {},
     "output_type": "execute_result"
    }
   ],
   "source": [
    "data['Education_Level'].unique()"
   ]
  },
  {
   "cell_type": "code",
   "execution_count": 21,
   "metadata": {},
   "outputs": [],
   "source": [
    "# Map Education_Level as an ordinal variable\n",
    "data['Education_Level'] = data['Education_Level'].map({'Uneducated': 1, 'High School': 2, 'College': 3, 'Graduate': 4, 'Post-Graduate': 5, 'Doctorate': 6})"
   ]
  },
  {
   "cell_type": "code",
   "execution_count": 22,
   "metadata": {},
   "outputs": [
    {
     "data": {
      "text/plain": [
       "count    10127.000000\n",
       "mean      8631.953698\n",
       "std       9088.776650\n",
       "min       1438.300000\n",
       "25%       2555.000000\n",
       "50%       4549.000000\n",
       "75%      11067.500000\n",
       "max      34516.000000\n",
       "Name: Credit_Limit, dtype: float64"
      ]
     },
     "execution_count": 22,
     "metadata": {},
     "output_type": "execute_result"
    }
   ],
   "source": [
    "data['Credit_Limit'].describe()"
   ]
  },
  {
   "cell_type": "code",
   "execution_count": 23,
   "metadata": {},
   "outputs": [
    {
     "name": "stderr",
     "output_type": "stream",
     "text": [
      "C:\\Users\\juanm\\anaconda3\\lib\\site-packages\\seaborn\\distributions.py:2619: FutureWarning: `distplot` is a deprecated function and will be removed in a future version. Please adapt your code to use either `displot` (a figure-level function with similar flexibility) or `histplot` (an axes-level function for histograms).\n",
      "  warnings.warn(msg, FutureWarning)\n"
     ]
    },
    {
     "data": {
      "image/png": "[encoded data removed]",
      "text/plain": [
       "<Figure size 648x432 with 1 Axes>"
      ]
     },
     "metadata": {},
     "output_type": "display_data"
    }
   ],
   "source": [
    "# Lets plot the distribution of Credit_Limit\n",
    "plt.figure(figsize=(9,6))\n",
    "sns.distplot(data['Credit_Limit'], bins=50, kde=False, color='blue')\n",
    "plt.show()"
   ]
  },
  {
   "cell_type": "code",
   "execution_count": 24,
   "metadata": {},
   "outputs": [],
   "source": [
    "# Let's bin the Credit_Limit\n",
    "data['Credit_Limit_Group'] = pd.cut(data['Credit_Limit'],bins=[0,10000,20000,34000,1000000],labels=['0-10000', '10000-20000', '20000-34000', '34000+'])"
   ]
  },
  {
   "cell_type": "code",
   "execution_count": 25,
   "metadata": {},
   "outputs": [
    {
     "data": {
      "text/plain": [
       "<AxesSubplot:xlabel='Credit_Limit_Group', ylabel='count'>"
      ]
     },
     "execution_count": 25,
     "metadata": {},
     "output_type": "execute_result"
    },
    {
     "data": {
      "image/png": "[encoded data removed]",
      "text/plain": [
       "<Figure size 648x432 with 1 Axes>"
      ]
     },
     "metadata": {},
     "output_type": "display_data"
    }
   ],
   "source": [
    "# Plot the distribution of Credit_Limit_Group\n",
    "plt.figure(figsize=(9,6))\n",
    "sns.countplot(x='Credit_Limit_Group',data=data,palette='Set1', order=['0-10000', '10000-20000', '20000-34000', '34000+'])"
   ]
  },
  {
   "cell_type": "code",
   "execution_count": 26,
   "metadata": {},
   "outputs": [
    {
     "data": {
      "text/plain": [
       "<AxesSubplot:xlabel='Credit_Limit_Group', ylabel='count'>"
      ]
     },
     "execution_count": 26,
     "metadata": {},
     "output_type": "execute_result"
    },
    {
     "data": {
      "image/png": "[encoded data removed]",
      "text/plain": [
       "<Figure size 648x432 with 1 Axes>"
      ]
     },
     "metadata": {},
     "output_type": "display_data"
    }
   ],
   "source": [
    "# Lets plot the distribution of Credit_Limit_Group in relation to the target\n",
    "plt.figure(figsize=(9,6))\n",
    "sns.countplot(x='Credit_Limit_Group', hue='Attrition_Flag', data=data, palette='Set1', order=['0-10000', '10000-20000', '20000-34000', '34000+'])"
   ]
  },
  {
   "cell_type": "code",
   "execution_count": 27,
   "metadata": {},
   "outputs": [],
   "source": [
    "# Let's map the Credit_Limit as an ordinal variable\n",
    "data['Credit_Limit_Group'] = data['Credit_Limit_Group'].map({'0-10000': 1, '10000-20000': 2, '20000-34000': 3, '34000+': 4})"
   ]
  },
  {
   "cell_type": "code",
   "execution_count": 28,
   "metadata": {},
   "outputs": [
    {
     "data": {
      "text/plain": [
       "<AxesSubplot:xlabel='Card_Category', ylabel='count'>"
      ]
     },
     "execution_count": 28,
     "metadata": {},
     "output_type": "execute_result"
    },
    {
     "data": {
      "image/png": "[encoded data removed]",
      "text/plain": [
       "<Figure size 432x288 with 1 Axes>"
      ]
     },
     "metadata": {},
     "output_type": "display_data"
    }
   ],
   "source": [
    "# Lets plot the distribution of card category in relation to the target\n",
    "sns.set(style=\"whitegrid\")\n",
    "sns.countplot(x=\"Card_Category\", hue=\"Attrition_Flag\", data=data)"
   ]
  },
  {
   "cell_type": "code",
   "execution_count": 29,
   "metadata": {},
   "outputs": [],
   "source": [
    "# Let's map Card_Category as an ordinal variable\n",
    "data['Card_Category'] = data['Card_Category'].map({'Blue': 1, 'Silver': 2, 'Gold': 3, 'Platinum': 4})"
   ]
  },
  {
   "cell_type": "code",
   "execution_count": 30,
   "metadata": {},
   "outputs": [],
   "source": [
    "# Drop 'Avg_Open_To_Buy' since it is similar to Credit_Limit\n",
    "data.drop(columns=['Avg_Open_To_Buy'], inplace=True)"
   ]
  },
  {
   "cell_type": "code",
   "execution_count": 31,
   "metadata": {},
   "outputs": [
    {
     "data": {
      "text/plain": [
       "count    10127.000000\n",
       "mean      4404.086304\n",
       "std       3397.129254\n",
       "min        510.000000\n",
       "25%       2155.500000\n",
       "50%       3899.000000\n",
       "75%       4741.000000\n",
       "max      18484.000000\n",
       "Name: Total_Trans_Amt, dtype: float64"
      ]
     },
     "execution_count": 31,
     "metadata": {},
     "output_type": "execute_result"
    }
   ],
   "source": [
    "data['Total_Trans_Amt'].describe()"
   ]
  },
  {
   "cell_type": "code",
   "execution_count": 32,
   "metadata": {},
   "outputs": [
    {
     "name": "stderr",
     "output_type": "stream",
     "text": [
      "C:\\Users\\juanm\\anaconda3\\lib\\site-packages\\seaborn\\distributions.py:2619: FutureWarning: `distplot` is a deprecated function and will be removed in a future version. Please adapt your code to use either `displot` (a figure-level function with similar flexibility) or `histplot` (an axes-level function for histograms).\n",
      "  warnings.warn(msg, FutureWarning)\n"
     ]
    },
    {
     "data": {
      "image/png": "[encoded data removed]",
      "text/plain": [
       "<Figure size 648x432 with 1 Axes>"
      ]
     },
     "metadata": {},
     "output_type": "display_data"
    }
   ],
   "source": [
    "# Let's plot the distribution of Total_Trans_Amt\n",
    "plt.figure(figsize=(9,6))\n",
    "sns.distplot(data['Total_Trans_Amt'], bins=50, kde=False, color='blue')\n",
    "plt.show()"
   ]
  },
  {
   "cell_type": "code",
   "execution_count": 33,
   "metadata": {},
   "outputs": [],
   "source": [
    "# Let's bin Total_Trans_Amt\n",
    "data['Total_Trans_Amt_Group'] = pd.cut(data['Total_Trans_Amt'],bins=[0,6000,12000,1000000],labels=['0-6000', '6000-12000', '12000+'])"
   ]
  },
  {
   "cell_type": "code",
   "execution_count": 34,
   "metadata": {},
   "outputs": [
    {
     "data": {
      "text/plain": [
       "<AxesSubplot:xlabel='Total_Trans_Amt_Group', ylabel='count'>"
      ]
     },
     "execution_count": 34,
     "metadata": {},
     "output_type": "execute_result"
    },
    {
     "data": {
      "image/png": "[encoded data removed]",
      "text/plain": [
       "<Figure size 648x432 with 1 Axes>"
      ]
     },
     "metadata": {},
     "output_type": "display_data"
    }
   ],
   "source": [
    "# Plot the distribution of Total_Trans_Amt_Group\n",
    "plt.figure(figsize=(9,6))\n",
    "sns.countplot(x='Total_Trans_Amt_Group',data=data,palette='Set1', order=['0-6000', '6000-12000', '12000+'])"
   ]
  },
  {
   "cell_type": "code",
   "execution_count": 35,
   "metadata": {},
   "outputs": [
    {
     "data": {
      "text/plain": [
       "<AxesSubplot:xlabel='Total_Trans_Amt_Group', ylabel='count'>"
      ]
     },
     "execution_count": 35,
     "metadata": {},
     "output_type": "execute_result"
    },
    {
     "data": {
      "image/png": "[encoded data removed]",
      "text/plain": [
       "<Figure size 648x432 with 1 Axes>"
      ]
     },
     "metadata": {},
     "output_type": "display_data"
    }
   ],
   "source": [
    "# Lets plot the distribution of Total_Trans_Amt_Group in relation to the target\n",
    "plt.figure(figsize=(9,6))\n",
    "sns.countplot(x='Total_Trans_Amt_Group', hue='Attrition_Flag', data=data, palette='Set1', order=['0-6000', '6000-12000', '12000+'])"
   ]
  },
  {
   "cell_type": "markdown",
   "metadata": {},
   "source": [
    "<li>We can see that the amount of Attrited Customers when the amount of transactions is 12000+, is close to 0</li>"
   ]
  },
  {
   "cell_type": "code",
   "execution_count": 36,
   "metadata": {},
   "outputs": [],
   "source": [
    "# Let's map Total_Trans_Amt as an ordinal variable\n",
    "data['Total_Trans_Amt_Group'] = data['Total_Trans_Amt_Group'].map({'0-6000': 1, '6000-12000': 2, '12000+': 3})"
   ]
  },
  {
   "cell_type": "code",
   "execution_count": 37,
   "metadata": {},
   "outputs": [
    {
     "data": {
      "text/plain": [
       "count    10127.000000\n",
       "mean        64.858695\n",
       "std         23.472570\n",
       "min         10.000000\n",
       "25%         45.000000\n",
       "50%         67.000000\n",
       "75%         81.000000\n",
       "max        139.000000\n",
       "Name: Total_Trans_Ct, dtype: float64"
      ]
     },
     "execution_count": 37,
     "metadata": {},
     "output_type": "execute_result"
    }
   ],
   "source": [
    "data['Total_Trans_Ct'].describe()"
   ]
  },
  {
   "cell_type": "code",
   "execution_count": 38,
   "metadata": {},
   "outputs": [
    {
     "name": "stderr",
     "output_type": "stream",
     "text": [
      "C:\\Users\\juanm\\anaconda3\\lib\\site-packages\\seaborn\\distributions.py:2619: FutureWarning: `distplot` is a deprecated function and will be removed in a future version. Please adapt your code to use either `displot` (a figure-level function with similar flexibility) or `histplot` (an axes-level function for histograms).\n",
      "  warnings.warn(msg, FutureWarning)\n"
     ]
    },
    {
     "data": {
      "image/png": "[encoded data removed]",
      "text/plain": [
       "<Figure size 648x432 with 1 Axes>"
      ]
     },
     "metadata": {},
     "output_type": "display_data"
    }
   ],
   "source": [
    "# Let's plot the distribution of Total_Trans_Ct \n",
    "plt.figure(figsize=(9,6))\n",
    "sns.distplot(data['Total_Trans_Ct'], bins=5, kde=False, color='blue')\n",
    "plt.show()"
   ]
  },
  {
   "cell_type": "code",
   "execution_count": 39,
   "metadata": {},
   "outputs": [
    {
     "name": "stdout",
     "output_type": "stream",
     "text": [
      "M    0.470919\n",
      "F    0.529081\n",
      "Name: Gender, dtype: float64\n",
      "count     10127\n",
      "unique        2\n",
      "top           F\n",
      "freq       5358\n",
      "Name: Gender, dtype: object\n",
      "---------------------------------------------------\n",
      "Divorced    0.073862\n",
      "Unknown     0.073961\n",
      "Single      0.389355\n",
      "Married     0.462822\n",
      "Name: Marital_Status, dtype: float64\n",
      "count       10127\n",
      "unique          4\n",
      "top       Married\n",
      "freq         4687\n",
      "Name: Marital_Status, dtype: object\n",
      "---------------------------------------------------\n"
     ]
    }
   ],
   "source": [
    "#Lets see the variability and some other statistics of categorical columns\n",
    "cat_columns = data.select_dtypes(include=['object']).columns\n",
    "for col in cat_columns:\n",
    "    print(data[col].value_counts(ascending=True, normalize=True))\n",
    "    print(data[col].describe())\n",
    "    print(\"---------------------------------------------------\")"
   ]
  },
  {
   "cell_type": "markdown",
   "metadata": {},
   "source": [
    "# Missing Data\n",
    "<ul>\n",
    "    <li>Lets see if there any missing values and visualize them</li>\n",
    "</ul>"
   ]
  },
  {
   "cell_type": "code",
   "execution_count": 40,
   "metadata": {},
   "outputs": [
    {
     "data": {
      "text/plain": [
       "Attrition_Flag              0\n",
       "Customer_Age                0\n",
       "Gender                      0\n",
       "Dependent_count             0\n",
       "Education_Level             0\n",
       "Marital_Status              0\n",
       "Income_Category             0\n",
       "Card_Category               0\n",
       "Months_on_book              0\n",
       "Total_Relationship_Count    0\n",
       "Months_Inactive_12_mon      0\n",
       "Contacts_Count_12_mon       0\n",
       "Credit_Limit                0\n",
       "Total_Revolving_Bal         0\n",
       "Total_Amt_Chng_Q4_Q1        0\n",
       "Total_Trans_Amt             0\n",
       "Total_Trans_Ct              0\n",
       "Total_Ct_Chng_Q4_Q1         0\n",
       "Avg_Utilization_Ratio       0\n",
       "Customer_Age_Group          0\n",
       "Credit_Limit_Group          0\n",
       "Total_Trans_Amt_Group       0\n",
       "dtype: int64"
      ]
     },
     "execution_count": 40,
     "metadata": {},
     "output_type": "execute_result"
    }
   ],
   "source": [
    "data.isnull().sum()"
   ]
  },
  {
   "cell_type": "markdown",
   "metadata": {},
   "source": [
    "<li>Luckily we don't have any missing values, so we can proceed with modeling</li>"
   ]
  },
  {
   "cell_type": "markdown",
   "metadata": {},
   "source": [
    "# Preprocessing + Pipeline\n",
    "<li>First, lets split the data into train and test dataframes</li>\n",
    "<p>Pipeline Steps:</p>\n",
    "<ol>\n",
    "    <li>Specific Columns encoding</li>\n",
    "    <li>One Hot Encoding</li>\n",
    "    <li>Quantile Proccesing</li>\n",
    "    <li>Fit the model</li>\n",
    "</ol>"
   ]
  },
  {
   "cell_type": "code",
   "execution_count": 41,
   "metadata": {},
   "outputs": [],
   "source": [
    "data['Gender'] = data['Gender'].map({'M': 1, 'F': 0})"
   ]
  },
  {
   "cell_type": "code",
   "execution_count": 42,
   "metadata": {},
   "outputs": [
    {
     "data": {
      "text/plain": [
       "array([1, 0], dtype=int64)"
      ]
     },
     "execution_count": 42,
     "metadata": {},
     "output_type": "execute_result"
    }
   ],
   "source": [
    "data['Gender'].unique()"
   ]
  },
  {
   "cell_type": "code",
   "execution_count": 43,
   "metadata": {},
   "outputs": [],
   "source": [
    "X = data.drop(columns=['Attrition_Flag'])"
   ]
  },
  {
   "cell_type": "code",
   "execution_count": 44,
   "metadata": {},
   "outputs": [],
   "source": [
    "y = data['Attrition_Flag']"
   ]
  },
  {
   "cell_type": "code",
   "execution_count": 45,
   "metadata": {},
   "outputs": [],
   "source": [
    "from sklearn.preprocessing import OneHotEncoder\n",
    "from sklearn.compose import ColumnTransformer\n",
    "from sklearn.preprocessing import QuantileTransformer\n",
    "\n",
    "catTransformer = ColumnTransformer(\n",
    "                [('encoder', OneHotEncoder(), cat_columns)]\n",
    "                , remainder='passthrough')"
   ]
  },
  {
   "cell_type": "code",
   "execution_count": 46,
   "metadata": {},
   "outputs": [],
   "source": [
    "X = catTransformer.fit_transform(X)"
   ]
  },
  {
   "cell_type": "code",
   "execution_count": 47,
   "metadata": {},
   "outputs": [],
   "source": [
    "from sklearn.model_selection import train_test_split\n",
    "X_train, X_test, y_train, y_test = train_test_split(X, y, test_size=0.20, random_state=10, stratify=y)"
   ]
  },
  {
   "cell_type": "code",
   "execution_count": 48,
   "metadata": {},
   "outputs": [],
   "source": [
    "# Import SMOTE\n",
    "from imblearn.over_sampling import SMOTE\n",
    "# Over-sample the training data\n",
    "os = SMOTE(random_state=42)\n",
    "X_train, y_train = os.fit_resample(X_train, y_train)"
   ]
  },
  {
   "cell_type": "code",
   "execution_count": 49,
   "metadata": {},
   "outputs": [],
   "source": [
    "from xgboost import XGBClassifier\n",
    "xgb = XGBClassifier(colsample_bytree= 0.7, learning_rate= 0.07, max_depth=7, min_child_weight=4,\n",
    "                  n_estimators = 500, nthread=4, objective= 'reg:linear', subsample= 0.7, tree_method='gpu_hist')"
   ]
  },
  {
   "cell_type": "code",
   "execution_count": 50,
   "metadata": {},
   "outputs": [
    {
     "name": "stderr",
     "output_type": "stream",
     "text": [
      "C:\\Users\\juanm\\anaconda3\\lib\\site-packages\\xgboost\\sklearn.py:1224: UserWarning: The use of label encoder in XGBClassifier is deprecated and will be removed in a future release. To remove this warning, do the following: 1) Pass option use_label_encoder=False when constructing XGBClassifier object; and 2) Encode your labels (y) as integers starting with 0, i.e. 0, 1, 2, ..., [num_class - 1].\n",
      "  warnings.warn(label_encoder_deprecation_msg, UserWarning)\n"
     ]
    },
    {
     "name": "stdout",
     "output_type": "stream",
     "text": [
      "[13:21:17] WARNING: C:/Users/Administrator/workspace/xgboost-win64_release_1.5.1/src/objective/regression_obj.cu:188: reg:linear is now deprecated in favor of reg:squarederror.\n"
     ]
    },
    {
     "data": {
      "text/plain": [
       "Pipeline(steps=[('XGBoost',\n",
       "                 XGBClassifier(base_score=0.5, booster='gbtree',\n",
       "                               colsample_bylevel=1, colsample_bynode=1,\n",
       "                               colsample_bytree=0.7, enable_categorical=False,\n",
       "                               gamma=0, gpu_id=0, importance_type=None,\n",
       "                               interaction_constraints='', learning_rate=0.07,\n",
       "                               max_delta_step=0, max_depth=7,\n",
       "                               min_child_weight=4, missing=nan,\n",
       "                               monotone_constraints='()', n_estimators=500,\n",
       "                               n_jobs=4, nthread=4, num_parallel_tree=1,\n",
       "                               objective='reg:linear', predictor='auto',\n",
       "                               random_state=0, reg_alpha=0, reg_lambda=1,\n",
       "                               scale_pos_weight=1, subsample=0.7,\n",
       "                               tree_method='gpu_hist', validate_parameters=1,\n",
       "                               verbosity=None))])"
      ]
     },
     "execution_count": 50,
     "metadata": {},
     "output_type": "execute_result"
    }
   ],
   "source": [
    "from sklearn.pipeline import Pipeline\n",
    "\n",
    "model_pipeline = Pipeline(steps=[\n",
    "                                #('One Hot Encoding', catTransformer),\n",
    "                                #('Quantile_Proccesing', QuantileTransformer(n_quantiles=10, random_state=0)),\n",
    "                                ('XGBoost', xgb)\n",
    "                                ])\n",
    "model_pipeline.fit(X_train, y_train)"
   ]
  },
  {
   "cell_type": "code",
   "execution_count": 51,
   "metadata": {},
   "outputs": [
    {
     "name": "stdout",
     "output_type": "stream",
     "text": [
      "Accuracy: 96.89%\n"
     ]
    }
   ],
   "source": [
    "# Accuracy Metrics\n",
    "from sklearn.metrics import accuracy_score\n",
    "\n",
    "y_pred = model_pipeline.predict(X_test)\n",
    "predictions = [round(value) for value in y_pred]\n",
    "accuracy = accuracy_score(y_test, predictions)\n",
    "print(\"Accuracy: %.2f%%\" % (accuracy * 100.0))"
   ]
  },
  {
   "cell_type": "code",
   "execution_count": 52,
   "metadata": {},
   "outputs": [
    {
     "data": {
      "image/png": "[encoded data removed]",
      "text/plain": [
       "<Figure size 432x288 with 2 Axes>"
      ]
     },
     "metadata": {},
     "output_type": "display_data"
    },
    {
     "name": "stdout",
     "output_type": "stream",
     "text": [
      "------------------------------------------\n",
      "\n",
      "\t\tTesting data results report\n",
      "\n",
      "               precision    recall  f1-score   support\n",
      "\n",
      "   Not Risky       0.98      0.99      0.98      1701\n",
      "       Risky       0.92      0.88      0.90       325\n",
      "\n",
      "    accuracy                           0.97      2026\n",
      "   macro avg       0.95      0.93      0.94      2026\n",
      "weighted avg       0.97      0.97      0.97      2026\n",
      "\n",
      "Accuracy: What percentage of those that we have said are Risky, actually are?\n",
      "\n",
      "Recall: It gives us the amount of found cases: What percentage of the Risky users were we able to identify?\n",
      "\n",
      "F1: Combines Accuracy and Recall into one metric\n"
     ]
    }
   ],
   "source": [
    "from sklearn.metrics import classification_report\n",
    "from sklearn.metrics import confusion_matrix, ConfusionMatrixDisplay\n",
    "\n",
    "# Confusion Matrix\n",
    "target_names = ['Not Risk of Attrition', 'Risk of Attrition']\n",
    "y_pred = model_pipeline.predict(X_test)\n",
    "# Hide grid lines from confusion matrix\n",
    "cm = confusion_matrix(y_test, y_pred, normalize=None)\n",
    "disp = ConfusionMatrixDisplay(confusion_matrix=cm,\n",
    "                             display_labels=target_names)\n",
    "disp.plot()\n",
    "plt.grid(False)\n",
    "plt.show()\n",
    "\n",
    "\n",
    "\n",
    "clf_report = classification_report(y_test, y_pred, target_names=target_names)\n",
    "\n",
    "print('------------------------------------------')\n",
    "print('')\n",
    "print(\"\\t\\tTesting data results report\\n\\n\", clf_report)\n",
    "print(\"Accuracy: What percentage of those that we have said are Risky, actually are?\\n\")\n",
    "print(\"Recall: It gives us the amount of found cases: What percentage of the Risky users were we able to identify?\\n\")\n",
    "print(\"F1: Combines Accuracy and Recall into one metric\")"
   ]
  },
  {
   "cell_type": "code",
   "execution_count": 53,
   "metadata": {},
   "outputs": [
    {
     "name": "stdout",
     "output_type": "stream",
     "text": [
      "AUC: 0.9906299461855017\n"
     ]
    },
    {
     "data": {
      "image/png": "[encoded data removed]",
      "text/plain": [
       "<Figure size 432x288 with 1 Axes>"
      ]
     },
     "metadata": {},
     "output_type": "display_data"
    }
   ],
   "source": [
    "y_pred_prob = model_pipeline.predict_proba(X_test)[:,1]\n",
    "# Import roc_auc_score\n",
    "from sklearn.metrics import roc_auc_score\n",
    "# Calculate the AUC\n",
    "auc = roc_auc_score(y_test, y_pred_prob)\n",
    "print(\"AUC:\", auc)\n",
    "# Import roc_curve\n",
    "from sklearn.metrics import roc_curve\n",
    "# Calculate the ROC curve\n",
    "fpr, tpr, thresholds = roc_curve(y_test, y_pred_prob)\n",
    "# Plot the ROC curve\n",
    "plt.plot([0, 1], [0, 1], 'k--')\n",
    "plt.plot(fpr, tpr)\n",
    "plt.xlabel('False Positive Rate')\n",
    "plt.ylabel('True Positive Rate')\n",
    "plt.title('ROC Curve')\n",
    "plt.show()"
   ]
  },
  {
   "cell_type": "markdown",
   "metadata": {},
   "source": [
    "# End\n",
    "<p>Thanks for going all the way down through my notebook! I hope you were able to get something usefull from this. Feel free to ask your questions and use my code</p>"
   ]
  }
 ],
 "metadata": {
  "kernelspec": {
   "display_name": "Python 3",
   "language": "python",
   "name": "python3"
  },
  "language_info": {
   "codemirror_mode": {
    "name": "ipython",
    "version": 3
   },
   "file_extension": ".py",
   "mimetype": "text/x-python",
   "name": "python",
   "nbconvert_exporter": "python",
   "pygments_lexer": "ipython3",
   "version": "3.9.7"
  }
 },
 "nbformat": 4,
 "nbformat_minor": 4
}
